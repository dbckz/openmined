{
 "cells": [
  {
   "cell_type": "code",
   "execution_count": 2,
   "id": "a2b348bf",
   "metadata": {},
   "outputs": [],
   "source": [
    "import torch\n",
    "from torch import nn\n",
    "\n",
    "from lenet_5 import LeNet5_5\n",
    "from torchvision.datasets.mnist import MNIST\n",
    "from torchvision.transforms import transforms\n",
    "from torch.utils.data import DataLoader\n",
    "import numpy as np"
   ]
  },
  {
   "cell_type": "code",
   "execution_count": 4,
   "id": "8996972b",
   "metadata": {},
   "outputs": [],
   "source": [
    "# Load data from MNIST\n",
    "BATCH_SIZE = 256\n",
    "BATCH_TEST_SIZE = 1024\n",
    "data_train = MNIST('./data/mnist',\n",
    "                   download=True,\n",
    "                   transform=transforms.Compose([\n",
    "                       transforms.Resize((32, 32)),\n",
    "                       transforms.ToTensor()]))\n",
    "data_test = MNIST('./data/mnist',\n",
    "                  train=False,\n",
    "                  download=True,\n",
    "                  transform=transforms.Compose([\n",
    "                      transforms.Resize((32, 32)),\n",
    "                      transforms.ToTensor()]))\n",
    "data_train_loader = DataLoader(data_train, batch_size = BATCH_SIZE , shuffle=True, num_workers=8)\n",
    "data_test_loader = DataLoader(data_test,  batch_size = BATCH_TEST_SIZE, num_workers=8)\n",
    "data_test_loader2 = DataLoader(data_test,  batch_size = 1, num_workers=0)\n",
    "\n",
    "TRAIN_SIZE = len(data_train_loader.dataset)\n",
    "TEST_SIZE = len(data_test_loader.dataset)\n",
    "NUM_BATCHES = len(data_train_loader)\n",
    "NUM_TEST_BATCHES = len(data_test_loader)"
   ]
  },
  {
   "cell_type": "code",
   "execution_count": 8,
   "id": "7e1015e0",
   "metadata": {},
   "outputs": [],
   "source": [
    "# Load pre-trained model\n",
    "model_loaded = LeNet5_5()\n",
    "model_loaded.load_state_dict(torch.load(\"./LeNet-saved-5\"))\n",
    "criterion = nn.NLLLoss()"
   ]
  },
  {
   "cell_type": "code",
   "execution_count": 10,
   "id": "bd5a1116",
   "metadata": {},
   "outputs": [],
   "source": [
    "# Validate\n",
    "def validate (net, criterion):\n",
    "    net.eval()\n",
    "    total_correct = 0\n",
    "    avg_loss = 0.0\n",
    "    for i, (images, labels) in enumerate(data_test_loader):\n",
    "        labels = (labels > 5).long()\n",
    "        output = net(images)\n",
    "        avg_loss += criterion(output, labels).sum()\n",
    "        pred = output.detach().max(1)[1]\n",
    "        total_correct += pred.eq(labels.view_as(pred)).sum()\n",
    "\n",
    "    avg_loss /= len(data_test)\n",
    "    print('Test Avg. Loss: %f, Accuracy: %f' % (avg_loss.detach().cpu().item(), float(total_correct) / len(data_test)))\n",
    "    return "
   ]
  },
  {
   "cell_type": "code",
   "execution_count": 12,
   "id": "325326f3",
   "metadata": {},
   "outputs": [
    {
     "name": "stdout",
     "output_type": "stream",
     "text": [
      "Test Avg. Loss: 0.000023, Accuracy: 0.992900\n"
     ]
    }
   ],
   "source": [
    "# Validate checks accuracy of the model\n",
    "validate (model_loaded, criterion)"
   ]
  },
  {
   "cell_type": "code",
   "execution_count": null,
   "id": "efeea781",
   "metadata": {},
   "outputs": [],
   "source": [
    "imgs = []\n",
    "intermediate_acts = []\n",
    "total_correct = 0\n",
    "\n",
    "model_loaded.eval()\n",
    "for i, (images, labele) in enumerate(data_test_loader2):\n",
    "    imgs.append(((np.reshape(np.squeeze(images.detach().numpy()), (1,-1)) )))\n",
    "    x = images\n",
    "    x = model_loaded.convnet(x)\n",
    "    \n",
    "    intermediate_acts.append(((np.reshape(np.squeeze(x.detach().numpy()), (1,-1)) )))\n",
    "    \n",
    "    np.save(\"images\", np.array(imgs).squeeze(1))\n",
    "    np.save(\"intermediate_act\", np.array(intermediate_acts).squeeze(1))"
   ]
  },
  {
   "cell_type": "code",
   "execution_count": null,
   "id": "b04bb937",
   "metadata": {},
   "outputs": [],
   "source": [
    "import sys\n",
    "sys.path.insert(1, './ite-repo')\n",
    "import ite"
   ]
  },
  {
   "cell_type": "code",
   "execution_count": null,
   "id": "11ac59cf",
   "metadata": {},
   "outputs": [],
   "source": []
  }
 ],
 "metadata": {
  "kernelspec": {
   "display_name": "Python 3 (ipykernel)",
   "language": "python",
   "name": "python3"
  },
  "language_info": {
   "codemirror_mode": {
    "name": "ipython",
    "version": 3
   },
   "file_extension": ".py",
   "mimetype": "text/x-python",
   "name": "python",
   "nbconvert_exporter": "python",
   "pygments_lexer": "ipython3",
   "version": "3.9.13"
  }
 },
 "nbformat": 4,
 "nbformat_minor": 5
}
