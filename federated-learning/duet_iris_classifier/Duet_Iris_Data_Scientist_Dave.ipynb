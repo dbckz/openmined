{
 "cells": [
  {
   "cell_type": "code",
   "execution_count": 1,
   "id": "934c80e4",
   "metadata": {},
   "outputs": [],
   "source": [
    "import syft as sy"
   ]
  },
  {
   "cell_type": "markdown",
   "id": "8e5b676c",
   "metadata": {},
   "source": [
    "# 1. Join Duet session"
   ]
  },
  {
   "cell_type": "code",
   "execution_count": 2,
   "id": "27176d3c",
   "metadata": {},
   "outputs": [
    {
     "data": {
      "image/png": "[encoded data removed]",
      "text/plain": [
       "<IPython.core.display.Image object>"
      ]
     },
     "metadata": {
      "image/png": {
       "unconfined": true,
       "width": 400
      }
     },
     "output_type": "display_data"
    },
    {
     "name": "stdout",
     "output_type": "stream",
     "text": [
      "🎤  🎸  ♪♪♪ Joining Duet ♫♫♫  🎻  🎹\n",
      "\n",
      "♫♫♫ >\u001b[93m DISCLAIMER\u001b[0m: \u001b[1mDuet is an experimental feature currently in beta.\n",
      "♫♫♫ > Use at your own risk.\n",
      "\u001b[0m\n",
      "\u001b[1m\n",
      "    > ❤️ \u001b[91mLove\u001b[0m \u001b[92mDuet\u001b[0m? \u001b[93mPlease\u001b[0m \u001b[94mconsider\u001b[0m \u001b[95msupporting\u001b[0m \u001b[91mour\u001b[0m \u001b[93mcommunity!\u001b[0m\n",
      "    > https://github.com/sponsors/OpenMined\u001b[1m\n",
      "\n",
      "♫♫♫ > Punching through firewall to OpenGrid Network Node at:\n",
      "♫♫♫ > http://ec2-18-218-7-180.us-east-2.compute.amazonaws.com:5000\n",
      "♫♫♫ >\n",
      "♫♫♫ > ...waiting for response from OpenGrid Network... \n",
      "♫♫♫ > \u001b[92mDONE!\u001b[0m\n"
     ]
    },
    {
     "name": "stderr",
     "output_type": "stream",
     "text": [
      "/Users/davebuckley/miniconda3/envs/openmined-courses/lib/python3.9/site-packages/aiortc/rtcdtlstransport.py:211: CryptographyDeprecationWarning: This version of cryptography contains a temporary pyOpenSSL fallback path. Upgrade pyOpenSSL now.\n",
      "  _openssl_assert(lib.SSL_CTX_use_certificate(ctx, self._cert._x509) == 1)  # type: ignore\n",
      "/Users/davebuckley/miniconda3/envs/openmined-courses/lib/python3.9/site-packages/aiortc/rtcdtlstransport.py:186: CryptographyDeprecationWarning: This version of cryptography contains a temporary pyOpenSSL fallback path. Upgrade pyOpenSSL now.\n",
      "  value=certificate_digest(self._cert._x509),  # type: ignore\n"
     ]
    },
    {
     "name": "stdout",
     "output_type": "stream",
     "text": [
      "\n",
      "♫♫♫ > \u001b[92mCONNECTED!\u001b[0m\n"
     ]
    }
   ],
   "source": [
    "duet = sy.join_duet(loopback=True)"
   ]
  },
  {
   "cell_type": "markdown",
   "id": "a8ea9510",
   "metadata": {},
   "source": [
    "# 2. Search for data"
   ]
  },
  {
   "cell_type": "code",
   "execution_count": 3,
   "id": "acb6bfde",
   "metadata": {},
   "outputs": [
    {
     "data": {
      "text/html": [
       "<div>\n",
       "<style scoped>\n",
       "    .dataframe tbody tr th:only-of-type {\n",
       "        vertical-align: middle;\n",
       "    }\n",
       "\n",
       "    .dataframe tbody tr th {\n",
       "        vertical-align: top;\n",
       "    }\n",
       "\n",
       "    .dataframe thead th {\n",
       "        text-align: right;\n",
       "    }\n",
       "</style>\n",
       "<table border=\"1\" class=\"dataframe\">\n",
       "  <thead>\n",
       "    <tr style=\"text-align: right;\">\n",
       "      <th></th>\n",
       "      <th>ID</th>\n",
       "      <th>Tags</th>\n",
       "      <th>Description</th>\n",
       "      <th>object_type</th>\n",
       "    </tr>\n",
       "  </thead>\n",
       "  <tbody>\n",
       "    <tr>\n",
       "      <th>0</th>\n",
       "      <td>&lt;UID: 55e415263d574a2886bedf6457d8c677&gt;</td>\n",
       "      <td>[iris-data]</td>\n",
       "      <td>150 flowers, 4 features used</td>\n",
       "      <td>&lt;class 'torch.Tensor'&gt;</td>\n",
       "    </tr>\n",
       "    <tr>\n",
       "      <th>1</th>\n",
       "      <td>&lt;UID: 29ab22ed406b462abba600dabc27c928&gt;</td>\n",
       "      <td>[iris-target]</td>\n",
       "      <td>3 classes of Iris</td>\n",
       "      <td>&lt;class 'torch.Tensor'&gt;</td>\n",
       "    </tr>\n",
       "    <tr>\n",
       "      <th>2</th>\n",
       "      <td>&lt;UID: f76c36ec59484ec7a403f7f55048738d&gt;</td>\n",
       "      <td>[iris-data]</td>\n",
       "      <td>150 flowers, 4 features used</td>\n",
       "      <td>&lt;class 'torch.Tensor'&gt;</td>\n",
       "    </tr>\n",
       "    <tr>\n",
       "      <th>3</th>\n",
       "      <td>&lt;UID: 8d977c7d9c5b4f7caafda042592ba6be&gt;</td>\n",
       "      <td>[iris-target]</td>\n",
       "      <td>3 classes of Iris</td>\n",
       "      <td>&lt;class 'torch.Tensor'&gt;</td>\n",
       "    </tr>\n",
       "  </tbody>\n",
       "</table>\n",
       "</div>"
      ],
      "text/plain": [
       "                                        ID           Tags  \\\n",
       "0  <UID: 55e415263d574a2886bedf6457d8c677>    [iris-data]   \n",
       "1  <UID: 29ab22ed406b462abba600dabc27c928>  [iris-target]   \n",
       "2  <UID: f76c36ec59484ec7a403f7f55048738d>    [iris-data]   \n",
       "3  <UID: 8d977c7d9c5b4f7caafda042592ba6be>  [iris-target]   \n",
       "\n",
       "                    Description             object_type  \n",
       "0  150 flowers, 4 features used  <class 'torch.Tensor'>  \n",
       "1             3 classes of Iris  <class 'torch.Tensor'>  \n",
       "2  150 flowers, 4 features used  <class 'torch.Tensor'>  \n",
       "3             3 classes of Iris  <class 'torch.Tensor'>  "
      ]
     },
     "execution_count": 3,
     "metadata": {},
     "output_type": "execute_result"
    }
   ],
   "source": [
    "duet.store.pandas"
   ]
  },
  {
   "cell_type": "code",
   "execution_count": 4,
   "id": "60bdef0c",
   "metadata": {},
   "outputs": [],
   "source": [
    "data_ptr = duet.store[0]\n",
    "target_ptr = duet.store[1]"
   ]
  },
  {
   "cell_type": "code",
   "execution_count": 5,
   "id": "c9d3e5cc",
   "metadata": {},
   "outputs": [
    {
     "name": "stdout",
     "output_type": "stream",
     "text": [
      "<syft.proxy.torch.TensorPointer object at 0x124eb1b20>\n",
      "<syft.proxy.torch.TensorPointer object at 0x124dc37c0>\n"
     ]
    }
   ],
   "source": [
    "print(data_ptr)\n",
    "print(target_ptr)"
   ]
  },
  {
   "cell_type": "markdown",
   "id": "288746ab",
   "metadata": {},
   "source": [
    "# Perform regression on the dataset"
   ]
  },
  {
   "cell_type": "code",
   "execution_count": 6,
   "id": "9a18e6b0",
   "metadata": {},
   "outputs": [
    {
     "name": "stdout",
     "output_type": "stream",
     "text": [
      "150 flowers, 4 features used\n",
      "3 classes of Iris\n"
     ]
    }
   ],
   "source": [
    "# Data scientist needs to know size and number of features/targets\n",
    "print(duet.store.pandas[\"Description\"][0])\n",
    "print(duet.store.pandas[\"Description\"][1])"
   ]
  },
  {
   "cell_type": "code",
   "execution_count": 7,
   "id": "1b61e5a3",
   "metadata": {},
   "outputs": [],
   "source": [
    "import torch"
   ]
  },
  {
   "cell_type": "code",
   "execution_count": 8,
   "id": "8c54a7a0",
   "metadata": {},
   "outputs": [],
   "source": [
    "in_dim = 4\n",
    "out_dim = 3\n",
    "n_samples = 150"
   ]
  },
  {
   "cell_type": "code",
   "execution_count": 9,
   "id": "76c605aa",
   "metadata": {},
   "outputs": [],
   "source": [
    "class SyNet(sy.Module):\n",
    "    def __init__(self, torch_ref):\n",
    "        super(SyNet, self).__init__(torch_ref=torch_ref)\n",
    "        self.layer1 = self.torch_ref.nn.Linear(in_dim, 20) # defines input/output layers and neurons\n",
    "        self.layer2 = self.torch_ref.nn.Linear(20, 30)\n",
    "        self.out = self.torch_ref.nn.Linear(30, out_dim)\n",
    "        \n",
    "    def forward(self, x):\n",
    "        x = self.torch_ref.nn.functional.relu(self.layer1(x))\n",
    "        x = self.torch_ref.nn.functional.relu(self.layer2(x))\n",
    "        output = self.torch_ref.nn.functional.log_softmax(self.out(x), dim=1)\n",
    "        return output\n",
    "    \n",
    "# log_softmax means you are returned the class with the highest probability, rather than a full distribution over the three possible classes"
   ]
  },
  {
   "cell_type": "code",
   "execution_count": 10,
   "id": "e59a1907",
   "metadata": {},
   "outputs": [],
   "source": [
    "local_model = SyNet(torch)"
   ]
  },
  {
   "cell_type": "code",
   "execution_count": 11,
   "id": "b95c7f26",
   "metadata": {},
   "outputs": [],
   "source": [
    "remote_model = local_model.send(duet)"
   ]
  },
  {
   "cell_type": "code",
   "execution_count": 15,
   "id": "81f95261",
   "metadata": {},
   "outputs": [],
   "source": [
    "remote_torch = duet.torch"
   ]
  },
  {
   "cell_type": "code",
   "execution_count": 16,
   "id": "7b992e44",
   "metadata": {},
   "outputs": [
    {
     "name": "stdout",
     "output_type": "stream",
     "text": [
      "<syft.proxy.syft.lib.python.ListPointer object at 0x125181760>\n",
      "<syft.proxy.torch.optim.AdamPointer object at 0x124906430>\n"
     ]
    }
   ],
   "source": [
    "params = remote_model.parameters()\n",
    "optim = remote_torch.optim.Adam(params=params, lr=0.01)\n",
    "print(params)\n",
    "print(optim) # remote_torch, so they return pointers to the remote objects"
   ]
  },
  {
   "cell_type": "code",
   "execution_count": 17,
   "id": "3c6d3f19",
   "metadata": {},
   "outputs": [],
   "source": [
    "def train(iterations, model, torch_ref, optim, data_ptr, target_ptr):\n",
    "    losses = []\n",
    "    for i in range(iterations):\n",
    "        optim.zero_grad()\n",
    "        output = model(data_ptr)\n",
    "        loss = torch_ref.nn.functional.nll_loss(output, target_ptr.long())\n",
    "        \n",
    "        loss_item = loss.item()\n",
    "        \n",
    "        loss_value =  loss_item.get(reason=\"To evaluate training progress\", request_block=True, timeout_secs=5)\n",
    "        \n",
    "        if i % 10 == 0:\n",
    "            print(\"Epoch\", i, \"loss\", loss_value)\n",
    "        losses.append(loss_value)\n",
    "        \n",
    "        loss.backward()\n",
    "        optim.step()\n",
    "    return losses"
   ]
  },
  {
   "cell_type": "code",
   "execution_count": 19,
   "id": "05f23622",
   "metadata": {},
   "outputs": [
    {
     "name": "stdout",
     "output_type": "stream",
     "text": [
      "Epoch 0 loss 1.1588537693023682\n",
      "Epoch 10 loss 0.6634626984596252\n",
      "Epoch 20 loss 0.23226620256900787\n",
      "Epoch 30 loss 0.09253562241792679\n",
      "Epoch 40 loss 0.06389955431222916\n"
     ]
    }
   ],
   "source": [
    "iterations = 50\n",
    "losses = train(iterations, remote_model, remote_torch, optim, data_ptr, target_ptr)"
   ]
  },
  {
   "cell_type": "code",
   "execution_count": 20,
   "id": "29847873",
   "metadata": {},
   "outputs": [],
   "source": [
    "import matplotlib.pyplot as plt"
   ]
  },
  {
   "cell_type": "code",
   "execution_count": 22,
   "id": "849fc275",
   "metadata": {},
   "outputs": [
    {
     "data": {
      "text/plain": [
       "Text(0.5, 0, 'iteration')"
      ]
     },
     "execution_count": 22,
     "metadata": {},
     "output_type": "execute_result"
    },
    {
     "data": {
      "image/png": "[encoded data removed]",
      "text/plain": [
       "<Figure size 640x480 with 1 Axes>"
      ]
     },
     "metadata": {},
     "output_type": "display_data"
    }
   ],
   "source": [
    "plt.plot(range(iterations), losses)\n",
    "plt.ylabel(\"Loss\")\n",
    "plt.xlabel(\"iteration\")"
   ]
  },
  {
   "cell_type": "markdown",
   "id": "bc6665ae",
   "metadata": {},
   "source": [
    "# Download remote model to local machine"
   ]
  },
  {
   "cell_type": "code",
   "execution_count": 23,
   "id": "1835bc7e",
   "metadata": {},
   "outputs": [],
   "source": [
    "def get_local_model(model):\n",
    "    if  not model.is_local:\n",
    "        local_model = model.get(\n",
    "            request_block=True,\n",
    "            reason=\"To run test and inference locally\",\n",
    "            timeout_secs = 5\n",
    "        )\n",
    "    else:\n",
    "        local_model = model\n",
    "    return local_model\n",
    "\n",
    "local_model = get_local_model(remote_model)"
   ]
  },
  {
   "cell_type": "markdown",
   "id": "935bc5c7",
   "metadata": {},
   "source": [
    "# Test on local data"
   ]
  },
  {
   "cell_type": "code",
   "execution_count": 24,
   "id": "d5aaf360",
   "metadata": {},
   "outputs": [],
   "source": [
    "import torch\n",
    "import pandas as pd\n",
    "import numpy as np\n",
    "from sklearn.metrics import accuracy_score"
   ]
  },
  {
   "cell_type": "code",
   "execution_count": 25,
   "id": "7a30dc98",
   "metadata": {},
   "outputs": [
    {
     "data": {
      "text/html": [
       "<div>\n",
       "<style scoped>\n",
       "    .dataframe tbody tr th:only-of-type {\n",
       "        vertical-align: middle;\n",
       "    }\n",
       "\n",
       "    .dataframe tbody tr th {\n",
       "        vertical-align: top;\n",
       "    }\n",
       "\n",
       "    .dataframe thead th {\n",
       "        text-align: right;\n",
       "    }\n",
       "</style>\n",
       "<table border=\"1\" class=\"dataframe\">\n",
       "  <thead>\n",
       "    <tr style=\"text-align: right;\">\n",
       "      <th></th>\n",
       "      <th>sepal length (cm)</th>\n",
       "      <th>sepal width (cm)</th>\n",
       "      <th>petal length (cm)</th>\n",
       "      <th>petal width (cm)</th>\n",
       "      <th>species</th>\n",
       "    </tr>\n",
       "  </thead>\n",
       "  <tbody>\n",
       "    <tr>\n",
       "      <th>0</th>\n",
       "      <td>5.8</td>\n",
       "      <td>4.0</td>\n",
       "      <td>1.2</td>\n",
       "      <td>0.2</td>\n",
       "      <td>0</td>\n",
       "    </tr>\n",
       "    <tr>\n",
       "      <th>1</th>\n",
       "      <td>5.7</td>\n",
       "      <td>4.4</td>\n",
       "      <td>1.5</td>\n",
       "      <td>0.4</td>\n",
       "      <td>0</td>\n",
       "    </tr>\n",
       "    <tr>\n",
       "      <th>2</th>\n",
       "      <td>6.0</td>\n",
       "      <td>2.7</td>\n",
       "      <td>5.1</td>\n",
       "      <td>1.6</td>\n",
       "      <td>1</td>\n",
       "    </tr>\n",
       "    <tr>\n",
       "      <th>3</th>\n",
       "      <td>6.0</td>\n",
       "      <td>2.9</td>\n",
       "      <td>4.5</td>\n",
       "      <td>1.5</td>\n",
       "      <td>1</td>\n",
       "    </tr>\n",
       "    <tr>\n",
       "      <th>4</th>\n",
       "      <td>5.8</td>\n",
       "      <td>2.7</td>\n",
       "      <td>5.1</td>\n",
       "      <td>1.9</td>\n",
       "      <td>2</td>\n",
       "    </tr>\n",
       "  </tbody>\n",
       "</table>\n",
       "</div>"
      ],
      "text/plain": [
       "   sepal length (cm)  sepal width (cm)  petal length (cm)  petal width (cm)  \\\n",
       "0                5.8               4.0                1.2               0.2   \n",
       "1                5.7               4.4                1.5               0.4   \n",
       "2                6.0               2.7                5.1               1.6   \n",
       "3                6.0               2.9                4.5               1.5   \n",
       "4                5.8               2.7                5.1               1.9   \n",
       "\n",
       "   species  \n",
       "0        0  \n",
       "1        0  \n",
       "2        1  \n",
       "3        1  \n",
       "4        2  "
      ]
     },
     "execution_count": 25,
     "metadata": {},
     "output_type": "execute_result"
    }
   ],
   "source": [
    "iris_test = pd.read_csv(\"./data/iris-test.csv\")\n",
    "iris_test.head()"
   ]
  },
  {
   "cell_type": "code",
   "execution_count": 27,
   "id": "68fdff40",
   "metadata": {},
   "outputs": [],
   "source": [
    "X_test = iris_test.loc[:, iris_test.columns != \"species\"]\n",
    "y_test = iris_test[\"species\"]"
   ]
  },
  {
   "cell_type": "code",
   "execution_count": 28,
   "id": "1e3c9934",
   "metadata": {},
   "outputs": [],
   "source": [
    "X_test = torch.FloatTensor(np.array(X_test))\n",
    "y_test = torch.LongTensor(np.array(y_test))"
   ]
  },
  {
   "cell_type": "code",
   "execution_count": 29,
   "id": "5c25518a",
   "metadata": {},
   "outputs": [
    {
     "name": "stdout",
     "output_type": "stream",
     "text": [
      "Prediction: 0 Ground truth: 0\n",
      "Prediction: 0 Ground truth: 0\n",
      "Prediction: 2 Ground truth: 1\n",
      "Prediction: 1 Ground truth: 1\n",
      "Prediction: 2 Ground truth: 2\n",
      "Prediction: 0 Ground truth: 0\n",
      "Prediction: 1 Ground truth: 1\n",
      "Prediction: 0 Ground truth: 0\n",
      "Prediction: 0 Ground truth: 0\n",
      "Prediction: 2 Ground truth: 2\n",
      "Prediction: 2 Ground truth: 2\n",
      "Prediction: 2 Ground truth: 2\n",
      "Prediction: 2 Ground truth: 2\n",
      "Prediction: 2 Ground truth: 2\n",
      "Prediction: 2 Ground truth: 2\n",
      "Prediction: 1 Ground truth: 1\n",
      "Prediction: 0 Ground truth: 0\n",
      "Prediction: 2 Ground truth: 1\n",
      "Prediction: 0 Ground truth: 0\n",
      "Prediction: 0 Ground truth: 0\n",
      "Prediction: 2 Ground truth: 2\n",
      "Prediction: 2 Ground truth: 2\n",
      "Prediction: 0 Ground truth: 0\n",
      "Prediction: 2 Ground truth: 2\n",
      "Prediction: 0 Ground truth: 0\n",
      "Prediction: 0 Ground truth: 0\n",
      "Prediction: 0 Ground truth: 0\n",
      "Prediction: 0 Ground truth: 0\n",
      "Prediction: 2 Ground truth: 2\n",
      "Prediction: 2 Ground truth: 2\n"
     ]
    }
   ],
   "source": [
    "preds = []\n",
    "with torch.no_grad():\n",
    "    for i in range(len(X_test)):\n",
    "        sample = X_test[i]\n",
    "        y_hat = local_model(sample.unsqueeze(0))\n",
    "        pred = y_hat.argmax().item()\n",
    "        print(f\"Prediction: {pred} Ground truth: {y_test[i]}\")\n",
    "        preds.append(pred)"
   ]
  },
  {
   "cell_type": "code",
   "execution_count": 30,
   "id": "b5a5f077",
   "metadata": {},
   "outputs": [
    {
     "name": "stdout",
     "output_type": "stream",
     "text": [
      "Overall test accuracy 93.33333333333333\n"
     ]
    }
   ],
   "source": [
    "acc = accuracy_score(y_test, preds)\n",
    "print(\"Overall test accuracy\", acc*100)"
   ]
  }
 ],
 "metadata": {
  "kernelspec": {
   "display_name": "Python 3 (ipykernel)",
   "language": "python",
   "name": "python3"
  },
  "language_info": {
   "codemirror_mode": {
    "name": "ipython",
    "version": 3
   },
   "file_extension": ".py",
   "mimetype": "text/x-python",
   "name": "python",
   "nbconvert_exporter": "python",
   "pygments_lexer": "ipython3",
   "version": "3.9.13"
  }
 },
 "nbformat": 4,
 "nbformat_minor": 5
}
